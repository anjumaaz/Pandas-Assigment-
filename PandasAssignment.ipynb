{
 "cells": [
  {
   "cell_type": "code",
   "execution_count": 1,
   "metadata": {
    "id": "6-KDlppz7GJQ"
   },
   "outputs": [
    {
     "ename": "ModuleNotFoundError",
     "evalue": "No module named 'matplotlib'",
     "output_type": "error",
     "traceback": [
      "\u001b[1;31m---------------------------------------------------------------------------\u001b[0m",
      "\u001b[1;31mModuleNotFoundError\u001b[0m                       Traceback (most recent call last)",
      "\u001b[1;32m<ipython-input-1-21f8a0ea477a>\u001b[0m in \u001b[0;36m<module>\u001b[1;34m\u001b[0m\n\u001b[0;32m      1\u001b[0m \u001b[1;32mimport\u001b[0m \u001b[0mpandas\u001b[0m \u001b[1;32mas\u001b[0m \u001b[0mpd\u001b[0m\u001b[1;33m\u001b[0m\u001b[1;33m\u001b[0m\u001b[0m\n\u001b[0;32m      2\u001b[0m \u001b[1;32mimport\u001b[0m \u001b[0mnumpy\u001b[0m \u001b[1;32mas\u001b[0m \u001b[0mnp\u001b[0m\u001b[1;33m\u001b[0m\u001b[1;33m\u001b[0m\u001b[0m\n\u001b[1;32m----> 3\u001b[1;33m \u001b[1;32mimport\u001b[0m \u001b[0mmatplotlib\u001b[0m\u001b[1;33m.\u001b[0m\u001b[0mpyplot\u001b[0m \u001b[1;32mas\u001b[0m \u001b[0mplt\u001b[0m\u001b[1;33m\u001b[0m\u001b[1;33m\u001b[0m\u001b[0m\n\u001b[0m\u001b[0;32m      4\u001b[0m \u001b[1;32mfrom\u001b[0m \u001b[0mglob\u001b[0m \u001b[1;32mimport\u001b[0m \u001b[0mglob\u001b[0m\u001b[1;33m\u001b[0m\u001b[1;33m\u001b[0m\u001b[0m\n",
      "\u001b[1;31mModuleNotFoundError\u001b[0m: No module named 'matplotlib'"
     ]
    }
   ],
   "source": [
    "import pandas as pd\n",
    "import numpy as np \n",
    "import matplotlib.pyplot as plt\n",
    "from glob import glob"
   ]
  },
  {
   "cell_type": "markdown",
   "metadata": {
    "id": "heWyXa7_BkBe"
   },
   "source": [
    "# **Part1**"
   ]
  },
  {
   "cell_type": "markdown",
   "metadata": {
    "id": "EIs3tKm_C_qQ"
   },
   "source": [
    "Inspect the Data!\n",
    "1.\n",
    "The first visualization your boss wants you to make is a scatterplot that shows average income in a state vs proportion of women in that state.\n",
    "\n",
    "Open some of the census csv files in the navigator. How are they named? What kind of information do they hold? Will they help us make this graph?\n"
   ]
  },
  {
   "cell_type": "code",
   "execution_count": null,
   "metadata": {
    "id": "EAL8k_nYBiml"
   },
   "outputs": [],
   "source": []
  },
  {
   "cell_type": "markdown",
   "metadata": {
    "id": "EKeVsofQDJlq"
   },
   "source": [
    "2.\n",
    "It will be easier to inspect this data once we have it in a DataFrame. You can’t even call .head() on these csvs! How are you supposed to read them?\n",
    "\n",
    "Using glob, loop through the census files available and load them into DataFrames. Then, concatenate all of those DataFrames together into one DataFrame, called something like us_census.\n"
   ]
  },
  {
   "cell_type": "code",
   "execution_count": null,
   "metadata": {
    "colab": {
     "base_uri": "https://localhost:8080/"
    },
    "id": "1SfJyO_GBiz_",
    "outputId": "874b75d7-2f64-4331-a0c2-c1116ede10ad"
   },
   "outputs": [],
   "source": [
    "files = glob(\"states*\")\n",
    "files"
   ]
  },
  {
   "cell_type": "code",
   "execution_count": null,
   "metadata": {
    "colab": {
     "base_uri": "https://localhost:8080/",
     "height": 292
    },
    "id": "oniMWwc0Ee7H",
    "outputId": "fabb937c-12af-4dde-ac64-7689fa422cfd"
   },
   "outputs": [],
   "source": [
    "us_census = pd.concat((pd.read_csv(file) for file in files ),ignore_index=True)\n",
    "us_census.head()"
   ]
  },
  {
   "cell_type": "markdown",
   "metadata": {
    "id": "HwysgYeTEhPP"
   },
   "source": [
    "3.\n",
    "Look at the .columns and the .dtypes of the us_census DataFrame. Are those datatypes going to hinder you as you try to make histograms?"
   ]
  },
  {
   "cell_type": "code",
   "execution_count": null,
   "metadata": {
    "colab": {
     "base_uri": "https://localhost:8080/"
    },
    "id": "geyBiR3XBi98",
    "outputId": "8c1eed48-fcf8-4af3-b527-274f51a35fca"
   },
   "outputs": [],
   "source": [
    "us_census.columns"
   ]
  },
  {
   "cell_type": "code",
   "execution_count": null,
   "metadata": {
    "colab": {
     "base_uri": "https://localhost:8080/"
    },
    "id": "5G47-ypYEjeG",
    "outputId": "95459c8e-63fb-490b-80ed-98f1bb49dabb"
   },
   "outputs": [],
   "source": [
    " us_census.dtypes"
   ]
  },
  {
   "cell_type": "markdown",
   "metadata": {
    "id": "fvO1JOhmE5c-"
   },
   "source": [
    "4.\n",
    "Look at the .head() of the DataFrame so that you can understand why some of these dtypes are objects instead of integers or floats.\n",
    "\n",
    "Start to make a plan for how to convert these columns into the right types for manipulation.\n"
   ]
  },
  {
   "cell_type": "code",
   "execution_count": null,
   "metadata": {
    "colab": {
     "base_uri": "https://localhost:8080/",
     "height": 292
    },
    "id": "-vuAFzUDEjfs",
    "outputId": "84a5f49f-7db9-490d-d28c-2a4fa64d4f5f"
   },
   "outputs": [],
   "source": [
    "us_census.head()"
   ]
  },
  {
   "cell_type": "markdown",
   "metadata": {
    "id": "dgnT-sLmE4JL"
   },
   "source": [
    "5.\n",
    "Use regex to turn the Income column into a format that is ready for conversion into a numerical type.\n"
   ]
  },
  {
   "cell_type": "code",
   "execution_count": null,
   "metadata": {
    "id": "WH_mZN_fEjj8"
   },
   "outputs": [],
   "source": [
    "us_census[\"Income\"] = us_census[\"Income\"].str.replace(\"$\",\"\",regex = True)\n",
    "us_census[\"Income\"] = pd.to_numeric(us_census[\"Income\"])"
   ]
  },
  {
   "cell_type": "code",
   "execution_count": null,
   "metadata": {
    "colab": {
     "base_uri": "https://localhost:8080/"
    },
    "id": "3dnZjgxVIfLT",
    "outputId": "fe6952a7-c9bf-407a-a0c2-63d9b0e25965"
   },
   "outputs": [],
   "source": [
    "us_census.dtypes"
   ]
  },
  {
   "cell_type": "markdown",
   "metadata": {
    "id": "4Hl94itxGJp5"
   },
   "source": [
    "6.\n",
    "Look at the GenderPop column. We are going to want to separate this into two columns, the Men column, and the Women column.\n",
    "\n",
    "Split the column into those two new columns using str.split and separating out those results.\n"
   ]
  },
  {
   "cell_type": "code",
   "execution_count": null,
   "metadata": {
    "id": "ySjBvNPzEjlb"
   },
   "outputs": [],
   "source": [
    "us_census[[\"the Men\",\"the Women\"]] = us_census[\"GenderPop\"].str.split(\"_\",expand = True)"
   ]
  },
  {
   "cell_type": "code",
   "execution_count": null,
   "metadata": {
    "colab": {
     "base_uri": "https://localhost:8080/",
     "height": 292
    },
    "id": "r_blCSNnEjp3",
    "outputId": "d9ed3cc2-a26e-4d48-bdd6-985a6b97d91e"
   },
   "outputs": [],
   "source": [
    "us_census.head()"
   ]
  },
  {
   "cell_type": "markdown",
   "metadata": {
    "id": "HfmMAlrxJWhv"
   },
   "source": [
    "7.Convert both of the columns into numerical datatypes.\n",
    "\n",
    "There is still an M or an F character in each entry! We should remove those before we convert."
   ]
  },
  {
   "cell_type": "code",
   "execution_count": null,
   "metadata": {
    "id": "wHvvm8KrBjK6"
   },
   "outputs": [],
   "source": [
    "us_census[\"the Men\"] = us_census[\"the Men\"].str.replace(\"M\",\"\")\n",
    "us_census[\"the Men\"] = pd.to_numeric(us_census[\"the Men\"])"
   ]
  },
  {
   "cell_type": "code",
   "execution_count": null,
   "metadata": {
    "id": "Uld8ogreJ_U7"
   },
   "outputs": [],
   "source": [
    "us_census[\"the Women\"] = us_census[\"the Women\"].str.replace(\"F\",\"\")\n",
    "us_census[\"the Women\"] = pd.to_numeric(us_census[\"the Women\"])"
   ]
  },
  {
   "cell_type": "markdown",
   "metadata": {
    "id": "FiFx-qsxPIfv"
   },
   "source": [
    "8.\n",
    "Now you should have the columns you need to make the graph and make sure your boss does not slam a ruler angrily on your desk because you’ve wasted your whole day cleaning your data with no results to show!\n",
    "\n",
    "Use matplotlib to make a scatterplot!\n",
    "\n",
    "plt.scatter(the_women_column, the_income_column) \n",
    "Remember to call plt.show() to see the graph!\n"
   ]
  },
  {
   "cell_type": "code",
   "execution_count": null,
   "metadata": {
    "colab": {
     "base_uri": "https://localhost:8080/",
     "height": 278
    },
    "id": "LcN571cOO6_s",
    "outputId": "5902e995-4bf3-4100-ffcd-7e57f4d9b538"
   },
   "outputs": [],
   "source": [
    "plt.scatter(us_census[\"the Women\"], us_census[\"Income\"])\n",
    "plt.show()"
   ]
  },
  {
   "cell_type": "markdown",
   "metadata": {
    "id": "3UDU4iWyPqJb"
   },
   "source": [
    "9.\n",
    "Did you get an error? These monstrous csv files probably have nan values in them! Print out your column with the number of women per state to see.\n",
    "\n",
    "We can fill in those nans by using pandas’ .fillna() function.\n",
    "\n",
    "You have the TotalPop per state, and you have the Men per state. As an estimate for the nan values in the Women column, you could use the TotalPop of that state minus the Men for that state.\n",
    "\n",
    "Print out the Women column after filling the nan values to see if it worked!\n"
   ]
  },
  {
   "cell_type": "code",
   "execution_count": null,
   "metadata": {
    "id": "VvXIiMywUalT"
   },
   "outputs": [],
   "source": [
    "us_census[\"the Women\"] = us_census[\"the Women\"].fillna(us_census[\"TotalPop\"]-us_census[\"the Men\"]).astype(int)\n"
   ]
  },
  {
   "cell_type": "markdown",
   "metadata": {
    "id": "_WycEM7FVHqw"
   },
   "source": [
    "10.\n",
    "We forgot to check for duplicates! Use .duplicated() on your census DataFrame to see if we have duplicate rows in there.\n"
   ]
  },
  {
   "cell_type": "code",
   "execution_count": null,
   "metadata": {
    "colab": {
     "base_uri": "https://localhost:8080/"
    },
    "id": "JGzTWrRhUTAO",
    "outputId": "19f8749b-2a4e-43d9-a2c3-47f1f963196e"
   },
   "outputs": [],
   "source": [
    "us_census.duplicated()"
   ]
  },
  {
   "cell_type": "markdown",
   "metadata": {
    "id": "ijDWO9yRVPkN"
   },
   "source": [
    "11.\n",
    "Drop those duplicates using the .drop_duplicates() function.\n"
   ]
  },
  {
   "cell_type": "code",
   "execution_count": null,
   "metadata": {
    "id": "jJ_7nwQ8O7FD"
   },
   "outputs": [],
   "source": [
    "us_census.drop_duplicates(inplace = True)"
   ]
  },
  {
   "cell_type": "markdown",
   "metadata": {
    "id": "x98Mv5jxVaap"
   },
   "source": [
    "12.Make the scatterplot again. Now, it should be perfect! Your job is secure, for now.\n",
    "\n"
   ]
  },
  {
   "cell_type": "code",
   "execution_count": null,
   "metadata": {
    "colab": {
     "base_uri": "https://localhost:8080/",
     "height": 278
    },
    "id": "g_R90lYsO7HL",
    "outputId": "226230d8-e365-4210-ac42-2c3d669e0838"
   },
   "outputs": [],
   "source": [
    "plt.scatter(us_census[\"the Women\"], us_census[\"Income\"])\n",
    "plt.show()"
   ]
  },
  {
   "cell_type": "markdown",
   "metadata": {
    "id": "TZDo5JTjVstP"
   },
   "source": [
    "13.\n",
    "Now, your boss wants you to make a bunch of histograms out of the race data that you have. Look at the .columns again to see what the race categories are.\n"
   ]
  },
  {
   "cell_type": "code",
   "execution_count": null,
   "metadata": {
    "colab": {
     "base_uri": "https://localhost:8080/"
    },
    "id": "ufF2mUPiO7KR",
    "outputId": "4a44a904-5a07-463b-f276-09e443b68228"
   },
   "outputs": [],
   "source": [
    "us_census.columns"
   ]
  },
  {
   "cell_type": "markdown",
   "metadata": {
    "id": "twEc4k4pY3Vx"
   },
   "source": [
    "14.\n",
    "Try to make a histogram for each one!\n",
    "\n",
    "You will have to get the columns into numerical format, and those percentage signs will have to go.\n",
    "\n",
    "Don’t forget to fill the nan values with something that makes sense! You probably dropped the duplicate rows when making your last graph, but it couldn’t hurt to check for duplicates again.\n",
    "\n"
   ]
  },
  {
   "cell_type": "code",
   "execution_count": null,
   "metadata": {
    "id": "UGK0ltPIO7MM"
   },
   "outputs": [],
   "source": [
    "def remove_sign(Name):\n",
    "  us_census[Name] = us_census[Name].str.replace(\"%\",\"\").astype(float)\n",
    "remove_sign(\"Hispanic\")\n",
    "remove_sign(\"White\")\n",
    "remove_sign(\"Black\")\n",
    "remove_sign(\"Native\")\n",
    "remove_sign(\"Asian\")            \n",
    "remove_sign(\"Pacific\")"
   ]
  },
  {
   "cell_type": "code",
   "execution_count": null,
   "metadata": {
    "colab": {
     "base_uri": "https://localhost:8080/"
    },
    "id": "qpsXJFH_ZEe5",
    "outputId": "b0dfe82c-3532-47e2-f091-e85803b32f06"
   },
   "outputs": [],
   "source": [
    "us_census.isnull().sum()"
   ]
  },
  {
   "cell_type": "code",
   "execution_count": null,
   "metadata": {
    "id": "9KE9OvrQZONz"
   },
   "outputs": [],
   "source": [
    "def fill(Name):\n",
    "  us_census[Name] = us_census[Name].fillna(us_census[Name].mean())\n",
    "fill(\"Pacific\")"
   ]
  },
  {
   "cell_type": "code",
   "execution_count": null,
   "metadata": {
    "colab": {
     "base_uri": "https://localhost:8080/"
    },
    "id": "_FhPB9W4ZpHl",
    "outputId": "637eb3a9-385c-42ca-ef16-476c039d2262"
   },
   "outputs": [],
   "source": [
    "us_census.duplicated()"
   ]
  },
  {
   "cell_type": "code",
   "execution_count": null,
   "metadata": {
    "colab": {
     "base_uri": "https://localhost:8080/",
     "height": 316
    },
    "id": "JekEhdS9O7PQ",
    "outputId": "e6d74c16-57ae-4759-fa99-dfcb3e893e9c"
   },
   "outputs": [],
   "source": [
    "x = [\"Hispanic\",\"White\",\"Black\",\"Native\",\"Asian\",\"Pacific\"]\n",
    "plt.hist(x,bins=10)"
   ]
  },
  {
   "cell_type": "markdown",
   "metadata": {
    "id": "vxljKepSADCv"
   },
   "source": [
    "# ***Part2***"
   ]
  },
  {
   "cell_type": "markdown",
   "metadata": {
    "id": "zzIChdUz7_9r"
   },
   "source": [
    "1.\n",
    "Data for all of the locations of Petal Power is in the file inventory.csv. Load the data into a DataFrame called inventory."
   ]
  },
  {
   "cell_type": "code",
   "execution_count": null,
   "metadata": {
    "id": "7m-zWfg88AoJ"
   },
   "outputs": [],
   "source": [
    "inventory = pd.read_csv(\"inventory.csv\")"
   ]
  },
  {
   "cell_type": "markdown",
   "metadata": {
    "id": "P2gY9pBR8JiW"
   },
   "source": [
    "2.\n",
    "Inspect the first 10 rows of inventory."
   ]
  },
  {
   "cell_type": "code",
   "execution_count": null,
   "metadata": {
    "colab": {
     "base_uri": "https://localhost:8080/",
     "height": 359
    },
    "id": "0JmuLxRz8LVN",
    "outputId": "14bdf591-7eb9-44d2-d18e-a6b491d1b721"
   },
   "outputs": [],
   "source": [
    "inventory.head(10)"
   ]
  },
  {
   "cell_type": "markdown",
   "metadata": {
    "id": "q37PmVXN8Wlc"
   },
   "source": [
    "3.\n",
    "The first 10 rows represent data from your Staten Island location. Select these rows and save them to staten_island."
   ]
  },
  {
   "cell_type": "code",
   "execution_count": null,
   "metadata": {
    "colab": {
     "base_uri": "https://localhost:8080/",
     "height": 359
    },
    "id": "s2Ia6Nsb8OWe",
    "outputId": "01cbd797-4327-4451-bd00-bb878e0ee000"
   },
   "outputs": [],
   "source": [
    "staten_island = inventory.iloc[:10,:]\n",
    "staten_island"
   ]
  },
  {
   "cell_type": "markdown",
   "metadata": {
    "id": "OFkdMR978qeA"
   },
   "source": [
    "4.\n",
    "A customer just emailed you asking what products are sold at your Staten Island location. Select the column product_description from staten_island and save it to the variable product_request."
   ]
  },
  {
   "cell_type": "code",
   "execution_count": null,
   "metadata": {
    "colab": {
     "base_uri": "https://localhost:8080/"
    },
    "id": "5_QUUfgi8iy8",
    "outputId": "fced07ec-79c9-40f0-aac4-3e56dc621a2e"
   },
   "outputs": [],
   "source": [
    "product_request = staten_island[\"product_description\"]\n",
    "product_request"
   ]
  },
  {
   "cell_type": "markdown",
   "metadata": {
    "id": "WPcqLKba9IKL"
   },
   "source": [
    "5.\n",
    "Another customer emails to ask what types of seeds are sold at the Brooklyn location.\n",
    "\n",
    "Select all rows where location is equal to Brooklyn and product_type is equal to seeds and save them to the variable seed_request"
   ]
  },
  {
   "cell_type": "code",
   "execution_count": null,
   "metadata": {
    "colab": {
     "base_uri": "https://localhost:8080/",
     "height": 142
    },
    "id": "1hWDs_tk8_Dh",
    "outputId": "238d600d-4ac8-42f0-b566-684c68087962"
   },
   "outputs": [],
   "source": [
    "seed_request = inventory.loc[(inventory[\"location\"] == \"Brooklyn\")& (inventory[\"product_type\"] == \"seeds\")]\n",
    "seed_request"
   ]
  },
  {
   "cell_type": "markdown",
   "metadata": {
    "id": "0YLLneEj-BjS"
   },
   "source": [
    "Inventory\n",
    "6.\n",
    "Add a column to inventory called in_stock which is True if quantity is greater than 0 and False if quantity equals 0."
   ]
  },
  {
   "cell_type": "code",
   "execution_count": null,
   "metadata": {
    "colab": {
     "base_uri": "https://localhost:8080/",
     "height": 359
    },
    "id": "-I_eRZ-G9rfO",
    "outputId": "5bbf1d73-c299-40f6-82f4-b658c4116480"
   },
   "outputs": [],
   "source": [
    "a = lambda x: \"True\" if x>0 else \"False\"\n",
    "inventory[\"in_stock\"] = inventory.quantity.apply(a) \n",
    "inventory.head(10)"
   ]
  },
  {
   "cell_type": "markdown",
   "metadata": {
    "id": "13Kwv0cG-o1V"
   },
   "source": [
    "7.\n",
    "Petal Power wants to know how valuable their current inventory is.\n",
    "\n",
    "Create a column called total_value that is equal to price multiplied by quantity."
   ]
  },
  {
   "cell_type": "code",
   "execution_count": null,
   "metadata": {
    "colab": {
     "base_uri": "https://localhost:8080/",
     "height": 204
    },
    "id": "ibL0Da4B-Zw_",
    "outputId": "369b61c2-cf3d-48e8-9e88-78b4cb86c9ff"
   },
   "outputs": [],
   "source": [
    "inventory[\"total_value\"] = inventory[\"price\"] * inventory[\"quantity\"]\n",
    "inventory.head()"
   ]
  },
  {
   "cell_type": "markdown",
   "metadata": {
    "id": "D1aw9xNN-67H"
   },
   "source": [
    "8.\n",
    "The Marketing department wants a complete description of each product for their catalog.\n",
    "\n",
    "The following lambda function combines product_type and product_description into a single string:\n",
    "\n",
    "combine_lambda = lambda row: \\\n",
    "    '{} - {}'.format(row.product_type,\n",
    "                     row.product_description)\n",
    "Paste this function into script.py.\n"
   ]
  },
  {
   "cell_type": "code",
   "execution_count": null,
   "metadata": {
    "id": "uWQ_9qW1-2uT"
   },
   "outputs": [],
   "source": [
    "combine_lambda = lambda row: '{} - {}'.format(row.product_type, row.product_description)"
   ]
  },
  {
   "cell_type": "markdown",
   "metadata": {
    "id": "_9VD1PMh_N8U"
   },
   "source": [
    "\n",
    "9.\n",
    "Using combine_lambda, create a new column in inventory called full_description that has the complete description of each product."
   ]
  },
  {
   "cell_type": "code",
   "execution_count": null,
   "metadata": {
    "id": "-BSvDc1I_OXU"
   },
   "outputs": [],
   "source": [
    "inventory[\"full_description\"] = combine_lambda(inventory)"
   ]
  },
  {
   "cell_type": "code",
   "execution_count": null,
   "metadata": {
    "id": "ilZSD1uD_in6"
   },
   "outputs": [],
   "source": []
  },
  {
   "cell_type": "code",
   "execution_count": null,
   "metadata": {
    "id": "8VYYpLE8Jshr"
   },
   "outputs": [],
   "source": []
  },
  {
   "cell_type": "code",
   "execution_count": null,
   "metadata": {},
   "outputs": [],
   "source": []
  },
  {
   "cell_type": "code",
   "execution_count": null,
   "metadata": {},
   "outputs": [],
   "source": []
  },
  {
   "cell_type": "code",
   "execution_count": null,
   "metadata": {},
   "outputs": [],
   "source": []
  },
  {
   "cell_type": "code",
   "execution_count": null,
   "metadata": {},
   "outputs": [],
   "source": []
  }
 ],
 "metadata": {
  "colab": {
   "collapsed_sections": [],
   "name": "Pandas_Assignment.ipynb",
   "provenance": [],
   "toc_visible": true
  },
  "kernelspec": {
   "display_name": "Python 3",
   "language": "python",
   "name": "python3"
  }
 },
 "nbformat": 4,
 "nbformat_minor": 1
}
